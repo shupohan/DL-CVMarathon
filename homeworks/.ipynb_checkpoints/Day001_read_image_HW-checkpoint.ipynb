{
 "cells": [
  {
   "cell_type": "code",
   "execution_count": 19,
   "metadata": {},
   "outputs": [],
   "source": [
    "#%matplotlib inline\n",
    "\n",
    "import cv2\n",
    "import numpy as np\n",
    "#import matplotlib.pyplot as plt"
   ]
  },
  {
   "cell_type": "code",
   "execution_count": 20,
   "metadata": {},
   "outputs": [],
   "source": [
    "img_path = '../data/lena.png'\n",
    "\n",
    "img = cv2.imread(img_path, cv2.IMREAD_COLOR)\n",
    "img_gray = cv2.imread(img_path, cv2.IMREAD_GRAYSCALE)"
   ]
  },
  {
   "cell_type": "code",
   "execution_count": 21,
   "metadata": {},
   "outputs": [],
   "source": [
    "img_blue, img_green, img_red = cv2.split(img)\n",
    "\n",
    "img_blue_2 = img[:,:,0]\n",
    "img_green_2 = img[:,:,1]\n",
    "img_red_2 = img[:,:,2]"
   ]
  },
  {
   "cell_type": "code",
   "execution_count": 22,
   "metadata": {},
   "outputs": [],
   "source": [
    "while True:\n",
    "    cv2.imshow('bgr', img)\n",
    "    cv2.imshow('gray', img_gray)\n",
    "    cv2.imshow('blue', img_blue)\n",
    "    cv2.imshow('green', img_green)\n",
    "    cv2.imshow('red', img_red)\n",
    "    cv2.imshow('blue_2', img_b)\n",
    "    cv2.imshow('green_2', img_g)\n",
    "    cv2.imshow('red_2', img_r)\n",
    "    \n",
    "    k = cv2.waitKey(0)\n",
    "    if k == 27:\n",
    "        cv2.destroyAllWindows()\n",
    "        break"
   ]
  },
  {
   "cell_type": "code",
   "execution_count": 23,
   "metadata": {},
   "outputs": [
    {
     "name": "stdout",
     "output_type": "stream",
     "text": [
      "image shape: (512, 512, 3)\n",
      "single channal shape: (512, 512)\n"
     ]
    }
   ],
   "source": [
    "#The reason that the image_blue, image_green and image_red are still gray is\n",
    "#because openCV recognize them as single channal, which means gray channal. \n",
    "#Therefore, adding zeros in the other 2 channals can help to avoid this problem.\n",
    "#The images show latter are going to be in blue, green and red colors.\n",
    "print ('image shape:', img.shape)\n",
    "print ('single channal shape:', img_blue.shape)"
   ]
  },
  {
   "cell_type": "code",
   "execution_count": 24,
   "metadata": {},
   "outputs": [],
   "source": [
    "zeros = np.zeros(img.shape[:2], dtype = \"uint8\")\n",
    "\n",
    "img_blue_3 = cv2.merge([img_blue, zeros, zeros])\n",
    "img_green_3 = cv2.merge([zeros, img_green, zeros])\n",
    "img_red_3 = cv2.merge([zeros, zeros, img_red])"
   ]
  },
  {
   "cell_type": "code",
   "execution_count": 25,
   "metadata": {},
   "outputs": [],
   "source": [
    "while True:\n",
    "    cv2.imshow('blue_3', img_blue_3)\n",
    "    cv2.imshow('green_3', img_green_3)\n",
    "    cv2.imshow('red_3', img_red_3)\n",
    "    \n",
    "    k = cv2.waitKey(0)\n",
    "    if k == 27:\n",
    "        cv2.destroyAllWindows()\n",
    "        break"
   ]
  },
  {
   "cell_type": "code",
   "execution_count": null,
   "metadata": {},
   "outputs": [],
   "source": []
  }
 ],
 "metadata": {
  "kernelspec": {
   "display_name": "Python 3",
   "language": "python",
   "name": "python3"
  },
  "language_info": {
   "codemirror_mode": {
    "name": "ipython",
    "version": 3
   },
   "file_extension": ".py",
   "mimetype": "text/x-python",
   "name": "python",
   "nbconvert_exporter": "python",
   "pygments_lexer": "ipython3",
   "version": "3.7.7"
  }
 },
 "nbformat": 4,
 "nbformat_minor": 4
}
