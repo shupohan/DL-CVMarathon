{
 "cells": [
  {
   "cell_type": "code",
   "execution_count": 1,
   "metadata": {},
   "outputs": [],
   "source": [
    "import cv2\n",
    "import numpy as np\n",
    "\n",
    "img = cv2.imread(\"../data/lena.png\")"
   ]
  },
  {
   "cell_type": "code",
   "execution_count": 2,
   "metadata": {},
   "outputs": [],
   "source": [
    "img_blur = img.copy()\n",
    "\n",
    "# 重複多次 Gaussian 模糊的操作來加深模糊的程度\n",
    "for i in range(100):\n",
    "    img_blur = cv2.GaussianBlur(img_blur, (5,5), 0)\n",
    "\n",
    "img_show = np.hstack((img, img_blur))\n",
    "while True:\n",
    "    cv2.imshow('Gaussian Blur', img_show)\n",
    "    k = cv2.waitKey(0)\n",
    "    if k == 27:\n",
    "        cv2.destroyAllWindows()\n",
    "        break"
   ]
  },
  {
   "cell_type": "code",
   "execution_count": 3,
   "metadata": {},
   "outputs": [],
   "source": [
    "img_gray = cv2.cvtColor(img, cv2.COLOR_BGR2GRAY)\n",
    "\n",
    "img_sobel_x = cv2.Sobel(img_gray, cv2.CV_16S, dx = 1, dy = 0, ksize = 3)"
   ]
  },
  {
   "cell_type": "code",
   "execution_count": 4,
   "metadata": {},
   "outputs": [
    {
     "data": {
      "text/plain": [
       "array([[   0,    0,   -4, ...,  -64, -168,    0],\n",
       "       [   0,    0,   -4, ...,  -64, -168,    0],\n",
       "       [   0,    0,   -4, ...,  -64, -168,    0],\n",
       "       ...,\n",
       "       [   0,   29,   19, ...,    3,  -14,    0],\n",
       "       [   0,   40,   25, ...,   15,    6,    0],\n",
       "       [   0,   44,   28, ...,   20,   16,    0]], dtype=int16)"
      ]
     },
     "execution_count": 4,
     "metadata": {},
     "output_type": "execute_result"
    }
   ],
   "source": [
    "#have negative value\n",
    "img_sobel_x "
   ]
  },
  {
   "cell_type": "code",
   "execution_count": 5,
   "metadata": {},
   "outputs": [
    {
     "data": {
      "text/plain": [
       "array([[  0,   0,   4, ...,  64, 168,   0],\n",
       "       [  0,   0,   4, ...,  64, 168,   0],\n",
       "       [  0,   0,   4, ...,  64, 168,   0],\n",
       "       ...,\n",
       "       [  0,  29,  19, ...,   3,  14,   0],\n",
       "       [  0,  40,  25, ...,  15,   6,   0],\n",
       "       [  0,  44,  28, ...,  20,  16,   0]], dtype=uint8)"
      ]
     },
     "execution_count": 5,
     "metadata": {},
     "output_type": "execute_result"
    }
   ],
   "source": [
    "img_sobel_x = cv2.convertScaleAbs(img_sobel_x)\n",
    "img_sobel_x"
   ]
  },
  {
   "cell_type": "code",
   "execution_count": 6,
   "metadata": {},
   "outputs": [
    {
     "data": {
      "text/plain": [
       "dtype('uint8')"
      ]
     },
     "execution_count": 6,
     "metadata": {},
     "output_type": "execute_result"
    }
   ],
   "source": [
    "img_sobel_y = cv2.Sobel(img_gray, cv2.CV_16S, dx=0, dy=1, ksize=3)\n",
    "img_sobel_y = cv2.convertScaleAbs(img_sobel_y)\n",
    "img_sobel_y.dtype"
   ]
  },
  {
   "cell_type": "code",
   "execution_count": 7,
   "metadata": {},
   "outputs": [],
   "source": [
    "#we cannot square uint8 directly because it'll cause overflow problem, so I convert to unint16 first\n",
    "img_sobel_xy = np.sqrt(np.square(img_sobel_x.astype('uint16')) + np.square(img_sobel_y).astype('uint16'))\n",
    "img_sobel_xy = img_sobel_xy.astype('uint8')\n",
    "\n",
    "img_show = np.hstack((img_sobel_x, img_sobel_y, img_sobel_xy))\n",
    "while True:\n",
    "    cv2.imshow('Edge Detection', img_show)\n",
    "    k = cv2.waitKey(0)\n",
    "    if k == 27:\n",
    "        cv2.destroyAllWindows()\n",
    "        break"
   ]
  },
  {
   "cell_type": "code",
   "execution_count": 21,
   "metadata": {},
   "outputs": [
    {
     "data": {
      "text/plain": [
       "array([[  0,   0,  16, ...,   0,  64,   0],\n",
       "       [  0,   0,  16, ...,   0,  64,   0],\n",
       "       [  0,   0,  16, ...,   0,  64,   0],\n",
       "       ...,\n",
       "       [  0,  73, 105, ...,   9, 196,   0],\n",
       "       [  0,  64, 113, ..., 225,  36,   0],\n",
       "       [  0, 144,  16, ..., 144,   0,   0]], dtype=uint8)"
      ]
     },
     "execution_count": 21,
     "metadata": {},
     "output_type": "execute_result"
    }
   ],
   "source": [
    "np.square(img_sobel_x)"
   ]
  },
  {
   "cell_type": "markdown",
   "metadata": {},
   "source": [
    "### Homework Start"
   ]
  },
  {
   "cell_type": "code",
   "execution_count": 10,
   "metadata": {},
   "outputs": [],
   "source": [
    "img_grey = cv2.cvtColor(img, cv2.COLOR_BGR2GRAY)\n",
    "img_sobelx = cv2.Sobel(img_grey, cv2.CV_16S, dx=1, dy=0, ksize=3)\n",
    "img_sobelx = cv2.convertScaleAbs(img_sobelx)\n",
    "\n",
    "img_sobelx_uint8 = cv2.Sobel(img_grey, cv2.CV_8U, dx=1, dy=0, ksize=3)\n",
    "\n",
    "img_show = np.hstack((img_grey, img_sobelx, img_sobelx_uint8))\n",
    "while True:\n",
    "    # 比較 Sobel 邊緣檢測的過程中針對負數操作的不同產生的差異\n",
    "    cv2.imshow('Edge Detection', img_show)\n",
    "    k = cv2.waitKey(0)\n",
    "    if k == 27:\n",
    "        cv2.destroyAllWindows()\n",
    "        break"
   ]
  },
  {
   "cell_type": "code",
   "execution_count": 11,
   "metadata": {},
   "outputs": [],
   "source": [
    "# 求二次導數取得邊緣檢測結果\n",
    "img_sobelxx = cv2.Sobel(img_grey, cv2.CV_16S, dx=2, dy=0, ksize=3)\n",
    "img_sobelxx = cv2.convertScaleAbs(img_sobelxx)\n",
    "\n",
    "img_show = np.hstack((img_grey, img_sobelx, img_sobelxx))\n",
    "while True:\n",
    "    cv2.imshow('Edge Detection', img_show)\n",
    "    k = cv2.waitKey(0)\n",
    "    if k == 27:\n",
    "        cv2.destroyAllWindows()\n",
    "        break"
   ]
  },
  {
   "cell_type": "markdown",
   "metadata": {},
   "source": [
    "[SOBEL AND LAPLACIAN](https://www.bogotobogo.com/python/OpenCV_Python/python_opencv3_Image_Gradient_Sobel_Laplacian_Derivatives_Edge_Detection.php)"
   ]
  }
 ],
 "metadata": {
  "kernelspec": {
   "display_name": "Python 3",
   "language": "python",
   "name": "python3"
  },
  "language_info": {
   "codemirror_mode": {
    "name": "ipython",
    "version": 3
   },
   "file_extension": ".py",
   "mimetype": "text/x-python",
   "name": "python",
   "nbconvert_exporter": "python",
   "pygments_lexer": "ipython3",
   "version": "3.7.7"
  }
 },
 "nbformat": 4,
 "nbformat_minor": 4
}
