{
 "cells": [
  {
   "cell_type": "code",
   "execution_count": 8,
   "metadata": {},
   "outputs": [],
   "source": [
    "import cv2\n",
    "import time\n",
    "import numpy as np\n",
    "\n",
    "img = cv2.imread(\"../data/lena.png\")"
   ]
  },
  {
   "cell_type": "code",
   "execution_count": 9,
   "metadata": {},
   "outputs": [
    {
     "name": "stdout",
     "output_type": "stream",
     "text": [
      "(512, 512, 3)\n",
      "3.3333333333333335\n",
      "3\n"
     ]
    }
   ],
   "source": [
    "print(img.shape)\n",
    "print(10/3)\n",
    "print(10//3)"
   ]
  },
  {
   "cell_type": "code",
   "execution_count": 10,
   "metadata": {},
   "outputs": [
    {
     "name": "stdout",
     "output_type": "stream",
     "text": [
      "Rotation Matrix\n",
      "[[  0.35355339   0.35355339  74.98066402]\n",
      " [ -0.35355339   0.35355339 256.        ]]\n",
      "\n"
     ]
    }
   ],
   "source": [
    "rows, cols = img.shape[:2]\n",
    "\n",
    "M_rotate = cv2.getRotationMatrix2D((cols//2, rows//2), 45, 0.5)\n",
    "print('Rotation Matrix')\n",
    "print(M_rotate)\n",
    "print()"
   ]
  },
  {
   "cell_type": "code",
   "execution_count": 12,
   "metadata": {},
   "outputs": [
    {
     "name": "stdout",
     "output_type": "stream",
     "text": [
      "[[  1.   0. 100.]\n",
      " [  0.   1. -50.]]\n",
      "\n"
     ]
    }
   ],
   "source": [
    "M_translate = np.array([[1, 0, 100],[0, 1, -50]], dtype = np.float32)\n",
    "print(M_translate)\n",
    "print()"
   ]
  },
  {
   "cell_type": "code",
   "execution_count": 14,
   "metadata": {},
   "outputs": [],
   "source": [
    "img_rotate = cv2.warpAffine(img, M_rotate, (cols, rows))\n",
    "img_rotate_trans = cv2.warpAffine(img_rotate, M_translate, (cols, rows))\n",
    "\n",
    "img_show_rotate_trans = np.hstack((img, img_rotate, img_rotate_trans))\n",
    "\n",
    "while True:\n",
    "    cv2.imshow('Rotate 45, scale 0.5, Translate x+100, y-50', img_show_rotate_trans)\n",
    "    k = cv2.waitKey(0)\n",
    "    if k == 27:\n",
    "        cv2.destroyAllWindows()\n",
    "        break"
   ]
  },
  {
   "cell_type": "code",
   "execution_count": 19,
   "metadata": {},
   "outputs": [],
   "source": [
    "pt1 = np.array([[50,50],[300,100],[200,300]], dtype = np.float32)\n",
    "pt2 = np.array([[80,80],[330,150],[300,300]], dtype = np.float32)\n",
    "\n",
    "M_affine = cv2.getAffineTransform(pt1,pt2)\n",
    "img_affine = cv2.warpAffine(img, M_affine, (cols, rows))\n",
    "img_copy = img.copy()\n",
    "\n",
    "img_copy = img.copy()\n",
    "for idx, pts in enumerate(pt1):\n",
    "    pts = tuple(map(int, pts))\n",
    "    cv2.circle(img_copy, pts, 3, (0, 255, 0), -1)\n",
    "    cv2.putText(img_copy, str(idx), (pts[0]+5, pts[1]+5), cv2.FONT_HERSHEY_COMPLEX, 1, (0, 255, 0), 1)\n",
    "\n",
    "for idx, pts in enumerate(pt2):\n",
    "    pts = tuple(map(int, pts))\n",
    "    cv2.circle(img_affine, pts, 3, (0, 255, 0), -1)\n",
    "    cv2.putText(img_affine, str(idx), (pts[0]+5, pts[1]+5), cv2.FONT_HERSHEY_COMPLEX, 1, (0, 255, 0), 1)\n",
    "\n",
    "img_show_affine = np.hstack((img_copy, img_affine))\n",
    "while True:\n",
    "    cv2.imshow('affine transformation', img_show_affine)\n",
    "    k = cv2.waitKey(0)\n",
    "    if k == 27:\n",
    "        cv2.destroyAllWindows()\n",
    "        break"
   ]
  },
  {
   "cell_type": "code",
   "execution_count": 18,
   "metadata": {},
   "outputs": [
    {
     "name": "stdout",
     "output_type": "stream",
     "text": [
      "idx =  0  pts =  [50. 50.]\n",
      "idx =  1  pts =  [300. 100.]\n",
      "idx =  2  pts =  [200. 300.]\n"
     ]
    }
   ],
   "source": [
    "for idx, pts in enumerate(pt1):\n",
    "    print(\"idx = \", idx, \" pts = \", pts)"
   ]
  },
  {
   "cell_type": "markdown",
   "metadata": {},
   "source": [
    "# resourses\n",
    "\n",
    "[圖像的幾何變化](https://blog.csdn.net/on2way/article/details/46801063)\n",
    "\n",
    "[getAffineTransform()](https://github.com/makelove/OpenCV-Python-Tutorial/blob/master/ch14-%E5%87%A0%E4%BD%95%E5%8F%98%E6%8D%A2/14.%E4%BB%BF%E5%B0%84%E5%8F%98%E6%8D%A2getAffineTransform.py)"
   ]
  }
 ],
 "metadata": {
  "kernelspec": {
   "display_name": "Python 3",
   "language": "python",
   "name": "python3"
  },
  "language_info": {
   "codemirror_mode": {
    "name": "ipython",
    "version": 3
   },
   "file_extension": ".py",
   "mimetype": "text/x-python",
   "name": "python",
   "nbconvert_exporter": "python",
   "pygments_lexer": "ipython3",
   "version": "3.7.7"
  }
 },
 "nbformat": 4,
 "nbformat_minor": 4
}
