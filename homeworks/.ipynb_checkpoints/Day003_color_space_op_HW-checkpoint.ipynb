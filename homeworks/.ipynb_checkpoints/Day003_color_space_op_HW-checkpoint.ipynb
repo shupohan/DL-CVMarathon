{
 "cells": [
  {
   "cell_type": "code",
   "execution_count": 1,
   "metadata": {},
   "outputs": [],
   "source": [
    "%matplotlib inline\n",
    "\n",
    "import numpy as np\n",
    "import cv2\n",
    "import matplotlib.pyplot as plt\n",
    "\n",
    "img_path = '../data/lena.png'\n",
    "img = cv2.imread(img_path, cv2.IMREAD_COLOR)"
   ]
  },
  {
   "cell_type": "markdown",
   "metadata": {},
   "source": [
    "# Method 1\n",
    "import numpy as np <br/>\n",
    "lowerBound, upperBound = 3, 7 <br/>\n",
    "arr = np.array(\\[0, 1, 2, 3, 4, 5, 6, 7, 8, 9\\]) <br/>\n",
    "\n",
    "arr\\[arr > upperBound\\] = upperBound <br/>\n",
    "arr\\[arr < lowerBound\\] = lowerBound <br/>\n",
    "\n",
    "\\# \\[3 3 3 3 4 5 6 7 7 7\\]<br/>\n",
    "print(arr)<br/>\n",
    "\n",
    "# Method 2\n",
    "In \\[1\\]: import numpy as np\n",
    "\n",
    "In \\[2\\]: arr = np.array(\\[0, 1, 2, 3, 4, 5, 6, 7, 8, 9\\])\n",
    "\n",
    "In \\[3\\]: lowerBound, upperBound = 3, 7\n",
    "\n",
    "In \\[4\\]: np.clip(arr, lowerBound, upperBound, out=arr)\n",
    "Out\\[4\\]: array(\\[3, 3, 3, 3, 4, 5, 6, 7, 7, 7\\])\n",
    "\n",
    "In \\[5\\]: arr\n",
    "Out\\[5\\]: array(\\[3, 3, 3, 3, 4, 5, 6, 7, 7, 7\\])\n",
    "\n",
    "\n",
    "[resource](https://stackoverflow.com/questions/41329691/pythonic-way-to-replace-list-values-with-upper-and-lower-bound-clamping-clippi)"
   ]
  },
  {
   "cell_type": "code",
   "execution_count": 2,
   "metadata": {},
   "outputs": [],
   "source": [
    "img_hls = cv2.cvtColor(img, cv2.COLOR_BGR2HLS)\n",
    "change_percentage = 0.2\n",
    "\n",
    "#ndarray.astype: Copy of the array, cast to a specified type.\n",
    "img_hls_down = img_hls.astype('float32')\n",
    "img_hls_down[..., -1] = img_hls_down[..., -1] / 255 - change_percentage\n",
    "img_hls_down[img_hls_down[...,-1] < 0] = 0\n",
    "img_hls_down[..., -1] = img_hls_down[..., -1] * 255\n",
    "img_hls_down = img_hls_down.astype('uint8')\n",
    "\n",
    "\n",
    "img_hls_up = img_hls.astype('float32')\n",
    "img_hls_up[:, :, -1] = img_hls_up[:, :, -1] / 255 + change_percentage\n",
    "img_hls_up[img_hls_up[:, :, -1] > 1] = 1\n",
    "img_hls_up[:, :, -1] = img_hls_up[:, :, -1] * 255\n",
    "img_hls_up = img_hls_up.astype('uint8')\n",
    "\n",
    "img_hls_down = cv2.cvtColor(img_hls_down, cv2.COLOR_HLS2BGR)\n",
    "img_hls_up = cv2.cvtColor(img_hls_up, cv2.COLOR_HLS2BGR)\n",
    "\n",
    "img_hls_change = np.hstack((img, img_hls_down, img_hls_up))\n",
    "while True:\n",
    "    cv2.imshow('change saturation', img_hls_change)\n",
    "    \n",
    "    k = cv2.waitKey(0)\n",
    "    if k == 27:\n",
    "        cv2.destroyAllWindows()\n",
    "        break"
   ]
  },
  {
   "cell_type": "code",
   "execution_count": 3,
   "metadata": {},
   "outputs": [],
   "source": [
    "img_hsv = cv2.cvtColor(img, cv2.COLOR_BGR2HSV)\n",
    "\n",
    "img_hsv_down = img_hsv.astype('float32')\n",
    "img_hsv_down[:, :, 1] = img_hsv_down[:, :, 1] / 255 - change_percentage\n",
    "img_hsv_down[img_hsv_down[:, :, 1] < 0] = 0\n",
    "img_hsv_down[:, :, 1] = img_hsv_down[:, :, 1] * 255\n",
    "img_hsv_down = img_hsv_down.astype('uint8')\n",
    "\n",
    "img_hsv_up = img_hsv.astype('float32')\n",
    "img_hsv_up[:, :, 1] = img_hsv_up[..., 1] / 255 + change_percentage\n",
    "img_hsv_up[img_hsv_up[:, :, 1] > 1] = 1\n",
    "img_hsv_up[:, :, 1] = img_hsv_up[:, :, 1] * 255\n",
    "img_hsv_up = img_hsv_up.astype('uint8')\n",
    "\n",
    "img_hsv_down = cv2.cvtColor(img_hsv_down, cv2.COLOR_HLS2BGR)\n",
    "img_hsv_up = cv2.cvtColor(img_hsv_up, cv2.COLOR_HLS2BGR)\n",
    "\n",
    "img_hsv_change = np.hstack((img, img_hsv_down, img_hsv_up))\n",
    "while True:\n",
    "    cv2.imshow('change saturation', img_hsv_change)\n",
    "    \n",
    "    k = cv2.waitKey(0)\n",
    "    if k == 27:\n",
    "        cv2.destroyAllWindows()\n",
    "        break"
   ]
  },
  {
   "cell_type": "code",
   "execution_count": 4,
   "metadata": {},
   "outputs": [],
   "source": [
    "img_gray = cv2.cvtColor(img, cv2.COLOR_BGR2GRAY)\n",
    "\n",
    "img_gray_equal = cv2.equalizeHist(img_gray)\n",
    "\n",
    "img_gray_equalHist = np.hstack((img_gray, img_gray_equal))\n",
    "\n",
    "while True:\n",
    "    cv2.imshow('gray equal histogram', img_gray_equalHist)\n",
    "    \n",
    "    k = cv2.waitKey(0)\n",
    "    if k == 27:\n",
    "        cv2.destroyAllWindows()\n",
    "        break"
   ]
  },
  {
   "cell_type": "code",
   "execution_count": 5,
   "metadata": {},
   "outputs": [],
   "source": [
    "img_blue, img_green, img_red = cv2.split(img)\n",
    "img_blue_equal = cv2.equalizeHist(img_blue)\n",
    "img_green_equal = cv2.equalizeHist(img_green)\n",
    "img_red_equal = cv2.equalizeHist(img_red)\n",
    "img_bgr_equal = cv2.merge([img_blue_equal, img_green_equal, img_red_equal])\n",
    "\n",
    "img_hue, img_saturation, img_value = cv2.split(cv2.cvtColor(img, cv2.COLOR_BGR2HSV))\n",
    "img_value = cv2.equalizeHist(img_value)\n",
    "img_hsv_equal = cv2.cvtColor(cv2.merge([img_hue, img_saturation, img_value]), cv2.COLOR_HSV2RGB)\n",
    "\n",
    "img_bgr_equalHist = np.hstack((img, img_bgr_equal, img_hsv_equal))\n",
    "while True:\n",
    "    # 比較 (原圖, BGR color space 對每個 channel 做直方圖均衡, HSV color space 對明度做直方圖均衡)\n",
    "    cv2.imshow('bgr equal histogram', img_bgr_equalHist)\n",
    "    k = cv2.waitKey(0)\n",
    "    if k == 27:\n",
    "        cv2.destroyAllWindows()\n",
    "        break"
   ]
  },
  {
   "cell_type": "code",
   "execution_count": 7,
   "metadata": {},
   "outputs": [],
   "source": [
    "add_constrast = cv2.convertScaleAbs(img, alpha = 2.5, beta = 0)\n",
    "add_lightness = cv2.convertScaleAbs(img, alpha = 1.0, beta = 100)\n",
    "\n",
    "img_contrast_light = np.hstack((add_constrast, add_lightness))\n",
    "\n",
    "while True:\n",
    "    cv2.imshow('adjust contrast and brightness', img_contrast_light)\n",
    "    \n",
    "    k = cv2.waitKey(0)\n",
    "    if k == 27:\n",
    "        cv2.destroyAllWindows()\n",
    "        break"
   ]
  },
  {
   "cell_type": "markdown",
   "metadata": {},
   "source": [
    "# Useful Material\n",
    "\n",
    "[histograms equalizer](https://medium.com/@rndayala/image-histograms-in-opencv-40ee5969a3b7)"
   ]
  },
  {
   "cell_type": "code",
   "execution_count": null,
   "metadata": {},
   "outputs": [],
   "source": []
  }
 ],
 "metadata": {
  "kernelspec": {
   "display_name": "Python 3",
   "language": "python",
   "name": "python3"
  },
  "language_info": {
   "codemirror_mode": {
    "name": "ipython",
    "version": 3
   },
   "file_extension": ".py",
   "mimetype": "text/x-python",
   "name": "python",
   "nbconvert_exporter": "python",
   "pygments_lexer": "ipython3",
   "version": "3.7.7"
  }
 },
 "nbformat": 4,
 "nbformat_minor": 4
}
