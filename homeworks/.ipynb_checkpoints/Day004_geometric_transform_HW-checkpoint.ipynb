{
 "cells": [
  {
   "cell_type": "code",
   "execution_count": 1,
   "metadata": {},
   "outputs": [],
   "source": [
    "import cv2\n",
    "import time\n",
    "import numpy as np\n",
    "\n",
    "img_path = '../data/lena.png'\n",
    "img = cv2.imread(img_path)"
   ]
  },
  {
   "cell_type": "code",
   "execution_count": 5,
   "metadata": {},
   "outputs": [],
   "source": [
    "# y-axis get flip, from -1,-2,-3 to the end\n",
    "img_vflip = img[::-1, :, :]\n",
    "\n",
    "# x-axis get flip, from -1,-2,-3 to the end\n",
    "img_hflip = img[:, ::-1, :]\n",
    "\n",
    "# y-axis and x-axis get flip, from -1,-2,-3 to the end\n",
    "img_hvflip = img[::-1, ::-1, :]\n",
    "\n",
    "hflip = np.hstack((img, img_hflip))\n",
    "vflip = np.hstack((img_vflip, img_hvflip))\n",
    "img_flip = np.vstack((hflip,vflip))\n",
    "\n",
    "#hflip = np.vstack((img_hflip, img_vflip)) ?doesn't work\n",
    "while True:\n",
    "    cv2.imshow('flip image', img_flip)\n",
    "    k = cv2.waitKey(0)\n",
    "    if k == 27:\n",
    "        cv2.destroyAllWindows()\n",
    "        break"
   ]
  },
  {
   "cell_type": "code",
   "execution_count": 6,
   "metadata": {},
   "outputs": [
    {
     "name": "stdout",
     "output_type": "stream",
     "text": [
      "INTER_NEAREST zoom cost 0.0009644031524658203\n",
      "INTER_CUBIC zoom cost 0.01714611053466797\n"
     ]
    }
   ],
   "source": [
    "img_test = cv2.resize(img, None, fx = 0.2, fy = 0.2)\n",
    "\n",
    "start_time = time.time()\n",
    "img_area_scale = cv2.resize(img_test, None, fx = 8, fy = 8, interpolation = cv2.INTER_NEAREST)\n",
    "print('INTER_NEAREST zoom cost {}'.format(time.time() - start_time))\n",
    "\n",
    "start_time = time.time()\n",
    "img_cubic_scale = cv2.resize(img_test, None, fx = 8, fy = 8, interpolation = cv2.INTER_CUBIC)\n",
    "print('INTER_CUBIC zoom cost {}'.format(time.time() - start_time))\n",
    "\n",
    "orig_img = cv2.resize(img, img_area_scale.shape[:2])\n",
    "\n",
    "img_zoom = np.hstack((orig_img, img_area_scale, img_cubic_scale))\n",
    "\n",
    "while True:\n",
    "    cv2.imshow('zoom image', img_zoom)\n",
    "    k = cv2.waitKey(0)\n",
    "    if k == 27:\n",
    "        cv2.destroyAllWindows()\n",
    "        break"
   ]
  },
  {
   "cell_type": "code",
   "execution_count": 12,
   "metadata": {},
   "outputs": [
    {
     "name": "stdout",
     "output_type": "stream",
     "text": [
      "(816, 816, 3)\n",
      "<class 'tuple'>\n"
     ]
    },
    {
     "data": {
      "text/plain": [
       "(816, 816)"
      ]
     },
     "execution_count": 12,
     "metadata": {},
     "output_type": "execute_result"
    }
   ],
   "source": [
    "#get the \n",
    "print(img_area_scale.shape)\n",
    "print(type(img_area_scale.shape))\n",
    "#get first two value\n",
    "img_area_scale.shape[:2]"
   ]
  },
  {
   "cell_type": "code",
   "execution_count": 21,
   "metadata": {},
   "outputs": [
    {
     "data": {
      "text/plain": [
       "(2, 3)"
      ]
     },
     "execution_count": 21,
     "metadata": {},
     "output_type": "execute_result"
    }
   ],
   "source": [
    "M = np.array([[1, 0, 50], [0, 1, 100]], dtype = np.float32)\n",
    "M.shape"
   ]
  },
  {
   "cell_type": "code",
   "execution_count": 8,
   "metadata": {},
   "outputs": [],
   "source": [
    "shift_img = cv2.warpAffine(img, M, (img.shape[1], img.shape[0]))\n",
    "img_shift = np.hstack((img, shift_img))\n",
    "while True:\n",
    "    cv2.imshow('shift image', img_shift)\n",
    "    k = cv2.waitKey(0)\n",
    "    if k == 27:\n",
    "        cv2.destroyAllWindows()\n",
    "        break"
   ]
  },
  {
   "cell_type": "markdown",
   "metadata": {},
   "source": [
    "## Resource\n",
    "\n",
    "[Negative list index? [duplicate]](https://stackoverflow.com/questions/11367902/negative-list-index#:~:text=Negative%20numbers%20mean%20that%20you,%2Dlast%2C%20and%20so%20on.&text=List%20indexes%20of%20%2Dx%20mean,should%20have%20told%20you%20this.)\n",
    "\n",
    "[What is the meaning of “int(a[::-1])” in Python? [duplicate]](https://stackoverflow.com/questions/31633635/what-is-the-meaning-of-inta-1-in-python)\n",
    "\n",
    "[Resize Image using Opencv Python](https://medium.com/@manivannan_data/resize-image-using-opencv-python-d2cdbbc480f0)\n",
    "\n",
    "[OpenCV GeoTransformation](https://blog.csdn.net/on2way/article/details/46801063)\n"
   ]
  },
  {
   "cell_type": "code",
   "execution_count": null,
   "metadata": {},
   "outputs": [],
   "source": []
  }
 ],
 "metadata": {
  "kernelspec": {
   "display_name": "Python 3",
   "language": "python",
   "name": "python3"
  },
  "language_info": {
   "codemirror_mode": {
    "name": "ipython",
    "version": 3
   },
   "file_extension": ".py",
   "mimetype": "text/x-python",
   "name": "python",
   "nbconvert_exporter": "python",
   "pygments_lexer": "ipython3",
   "version": "3.7.7"
  }
 },
 "nbformat": 4,
 "nbformat_minor": 4
}
