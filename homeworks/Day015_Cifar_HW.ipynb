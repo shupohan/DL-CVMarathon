{
 "cells": [
  {
   "cell_type": "code",
   "execution_count": 1,
   "metadata": {},
   "outputs": [
    {
     "name": "stderr",
     "output_type": "stream",
     "text": [
      "Using TensorFlow backend.\n"
     ]
    }
   ],
   "source": [
    "from keras.models import Sequential\n",
    "from keras.layers import Conv2D\n",
    "from keras.layers import MaxPooling2D\n",
    "from keras.layers import Flatten\n",
    "from keras.layers import Dense\n",
    "from keras.layers import Dropout\n",
    "from keras.layers import BatchNormalization\n",
    "from keras.datasets import cifar10\n",
    "import numpy as np\n",
    "import tensorflow as tf\n",
    "from sklearn.preprocessing import OneHotEncoder"
   ]
  },
  {
   "cell_type": "code",
   "execution_count": 2,
   "metadata": {},
   "outputs": [
    {
     "name": "stdout",
     "output_type": "stream",
     "text": [
      "<class 'numpy.ndarray'> (50000, 32, 32, 3)\n"
     ]
    }
   ],
   "source": [
    "(x_train, y_train), (x_test, y_test) = cifar10.load_data()\n",
    "print(type(x_train), x_train.shape)"
   ]
  },
  {
   "cell_type": "code",
   "execution_count": 3,
   "metadata": {},
   "outputs": [
    {
     "name": "stdout",
     "output_type": "stream",
     "text": [
      "(10000, 32, 32, 3)\n"
     ]
    }
   ],
   "source": [
    "print(x_test.shape)"
   ]
  },
  {
   "cell_type": "code",
   "execution_count": 6,
   "metadata": {},
   "outputs": [],
   "source": [
    "def normalize(X_train, X_test):\n",
    "    mean = np.mean(X_train, axis = (0,1,2,3))\n",
    "    std = np.std(X_train, axis = (0,1,2,3))\n",
    "    X_train = (X_train - mean) / (std + 1e-7)\n",
    "    X_test = (X_test - mean) / (std + 1e-7)\n",
    "    return X_train, X_test, mean, std"
   ]
  },
  {
   "cell_type": "code",
   "execution_count": 7,
   "metadata": {},
   "outputs": [],
   "source": [
    "x_train, x_test,mean_train,std_train = normalize(x_train, x_test)"
   ]
  },
  {
   "cell_type": "code",
   "execution_count": 8,
   "metadata": {},
   "outputs": [
    {
     "data": {
      "text/plain": [
       "(50000, 1)"
      ]
     },
     "execution_count": 8,
     "metadata": {},
     "output_type": "execute_result"
    }
   ],
   "source": [
    "y_train.shape"
   ]
  },
  {
   "cell_type": "code",
   "execution_count": 9,
   "metadata": {},
   "outputs": [],
   "source": [
    "one_hot = OneHotEncoder()\n",
    "y_train = one_hot.fit_transform(y_train).toarray()\n",
    "y_test = one_hot.transform(y_test).toarray()"
   ]
  },
  {
   "cell_type": "code",
   "execution_count": 10,
   "metadata": {},
   "outputs": [
    {
     "data": {
      "text/plain": [
       "(50000, 10)"
      ]
     },
     "execution_count": 10,
     "metadata": {},
     "output_type": "execute_result"
    }
   ],
   "source": [
    "y_train.shape"
   ]
  },
  {
   "cell_type": "code",
   "execution_count": 11,
   "metadata": {},
   "outputs": [
    {
     "data": {
      "text/plain": [
       "array([0., 1., 0., 0., 0., 0., 0., 0., 0., 0.])"
      ]
     },
     "execution_count": 11,
     "metadata": {},
     "output_type": "execute_result"
    }
   ],
   "source": [
    "y_train[5]"
   ]
  },
  {
   "cell_type": "code",
   "execution_count": 12,
   "metadata": {},
   "outputs": [
    {
     "name": "stderr",
     "output_type": "stream",
     "text": [
      "C:\\Users\\shupo\\Anaconda3\\envs\\CV_marathon\\lib\\site-packages\\ipykernel_launcher.py:17: UserWarning: Update your `Dense` call to the Keras 2 API: `Dense(activation=\"relu\", units=100)`\n",
      "C:\\Users\\shupo\\Anaconda3\\envs\\CV_marathon\\lib\\site-packages\\ipykernel_launcher.py:20: UserWarning: Update your `Dense` call to the Keras 2 API: `Dense(activation=\"softmax\", units=10)`\n"
     ]
    },
    {
     "name": "stdout",
     "output_type": "stream",
     "text": [
      "Epoch 1/30\n",
      "50000/50000 [==============================] - 7s 140us/step - loss: 1.4386 - accuracy: 0.4833\n",
      "Epoch 2/30\n",
      "50000/50000 [==============================] - 6s 113us/step - loss: 1.1108 - accuracy: 0.6049\n",
      "Epoch 3/30\n",
      "50000/50000 [==============================] - 6s 113us/step - loss: 0.9684 - accuracy: 0.6604\n",
      "Epoch 4/30\n",
      "50000/50000 [==============================] - 6s 113us/step - loss: 0.8659 - accuracy: 0.6987\n",
      "Epoch 5/30\n",
      "50000/50000 [==============================] - 6s 111us/step - loss: 0.7953 - accuracy: 0.7211\n",
      "Epoch 6/30\n",
      "50000/50000 [==============================] - 6s 113us/step - loss: 0.7337 - accuracy: 0.7433\n",
      "Epoch 7/30\n",
      "50000/50000 [==============================] - 6s 112us/step - loss: 0.6785 - accuracy: 0.7615\n",
      "Epoch 8/30\n",
      "50000/50000 [==============================] - 6s 113us/step - loss: 0.6359 - accuracy: 0.7766\n",
      "Epoch 9/30\n",
      "50000/50000 [==============================] - 6s 112us/step - loss: 0.6004 - accuracy: 0.7901\n",
      "Epoch 10/30\n",
      "50000/50000 [==============================] - 6s 112us/step - loss: 0.5651 - accuracy: 0.8016\n",
      "Epoch 11/30\n",
      "50000/50000 [==============================] - 6s 113us/step - loss: 0.5341 - accuracy: 0.8137\n",
      "Epoch 12/30\n",
      "50000/50000 [==============================] - 6s 113us/step - loss: 0.5032 - accuracy: 0.8221\n",
      "Epoch 13/30\n",
      "50000/50000 [==============================] - 6s 112us/step - loss: 0.4780 - accuracy: 0.8320\n",
      "Epoch 14/30\n",
      "50000/50000 [==============================] - 6s 113us/step - loss: 0.4479 - accuracy: 0.8427\n",
      "Epoch 15/30\n",
      "50000/50000 [==============================] - 6s 113us/step - loss: 0.4254 - accuracy: 0.8502\n",
      "Epoch 16/30\n",
      "50000/50000 [==============================] - 6s 113us/step - loss: 0.4067 - accuracy: 0.8573\n",
      "Epoch 17/30\n",
      "50000/50000 [==============================] - 6s 112us/step - loss: 0.3859 - accuracy: 0.8621\n",
      "Epoch 18/30\n",
      "50000/50000 [==============================] - 6s 112us/step - loss: 0.3602 - accuracy: 0.8721\n",
      "Epoch 19/30\n",
      "50000/50000 [==============================] - 6s 113us/step - loss: 0.3424 - accuracy: 0.8776\n",
      "Epoch 20/30\n",
      "50000/50000 [==============================] - 6s 113us/step - loss: 0.3264 - accuracy: 0.8843\n",
      "Epoch 21/30\n",
      "50000/50000 [==============================] - 6s 112us/step - loss: 0.3108 - accuracy: 0.8890\n",
      "Epoch 22/30\n",
      "50000/50000 [==============================] - 6s 113us/step - loss: 0.2948 - accuracy: 0.8968\n",
      "Epoch 23/30\n",
      "50000/50000 [==============================] - 6s 112us/step - loss: 0.2760 - accuracy: 0.9023\n",
      "Epoch 24/30\n",
      "50000/50000 [==============================] - 6s 113us/step - loss: 0.2635 - accuracy: 0.9058\n",
      "Epoch 25/30\n",
      "50000/50000 [==============================] - 6s 113us/step - loss: 0.2477 - accuracy: 0.9125\n",
      "Epoch 26/30\n",
      "50000/50000 [==============================] - 6s 112us/step - loss: 0.2413 - accuracy: 0.9127\n",
      "Epoch 27/30\n",
      "50000/50000 [==============================] - 6s 112us/step - loss: 0.2262 - accuracy: 0.9195\n",
      "Epoch 28/30\n",
      "50000/50000 [==============================] - 6s 112us/step - loss: 0.2220 - accuracy: 0.9197\n",
      "Epoch 29/30\n",
      "50000/50000 [==============================] - 6s 112us/step - loss: 0.2053 - accuracy: 0.9258\n",
      "Epoch 30/30\n",
      "50000/50000 [==============================] - 6s 112us/step - loss: 0.1992 - accuracy: 0.9294\n"
     ]
    },
    {
     "data": {
      "text/plain": [
       "<keras.callbacks.callbacks.History at 0x20bc1cdb188>"
      ]
     },
     "execution_count": 12,
     "metadata": {},
     "output_type": "execute_result"
    }
   ],
   "source": [
    "classifier=Sequential()\n",
    "\n",
    "#卷積組合\n",
    "classifier.add(Conv2D(filters = 16, kernel_size = (3,3), input_shape=(32,32,3), activation = 'relu'))#32,3,3,input_shape=(32,32,3),activation='relu''\n",
    "classifier.add(BatchNormalization())\n",
    "classifier.add(MaxPooling2D(pool_size=(2,2)))\n",
    "\n",
    "#卷積組合\n",
    "classifier.add(Conv2D(filters = 16, kernel_size = (3,3), activation = 'sigmoid'))\n",
    "classifier.add(BatchNormalization())\n",
    "classifier.add(MaxPooling2D(pool_size=(2,2)))\n",
    "\n",
    "#flatten\n",
    "classifier.add(Flatten())\n",
    "\n",
    "#FC\n",
    "classifier.add(Dense(output_dim = 100, activation = 'relu')) #output_dim=100,activation=relu\n",
    "\n",
    "#輸出\n",
    "classifier.add(Dense(output_dim=10,activation='softmax'))\n",
    "\n",
    "#超過兩個就要選categorical_crossentrophy\n",
    "classifier.compile(optimizer = 'adam', loss = 'categorical_crossentropy', metrics = ['accuracy'])\n",
    "classifier.fit(x_train,y_train,batch_size=100,epochs=30)"
   ]
  },
  {
   "cell_type": "code",
   "execution_count": 15,
   "metadata": {},
   "outputs": [
    {
     "data": {
      "text/plain": [
       "array([3], dtype=int64)"
      ]
     },
     "execution_count": 15,
     "metadata": {},
     "output_type": "execute_result"
    }
   ],
   "source": [
    "input_example=(np.zeros(shape=(1,32,32,3))-mean_train)/(std_train+1e-7) \n",
    "classifier.predict_classes(input_example)"
   ]
  },
  {
   "cell_type": "code",
   "execution_count": null,
   "metadata": {},
   "outputs": [],
   "source": []
  }
 ],
 "metadata": {
  "kernelspec": {
   "display_name": "Python 3",
   "language": "python",
   "name": "python3"
  },
  "language_info": {
   "codemirror_mode": {
    "name": "ipython",
    "version": 3
   },
   "file_extension": ".py",
   "mimetype": "text/x-python",
   "name": "python",
   "nbconvert_exporter": "python",
   "pygments_lexer": "ipython3",
   "version": "3.7.7"
  }
 },
 "nbformat": 4,
 "nbformat_minor": 4
}
